{
 "cells": [
  {
   "cell_type": "code",
   "execution_count": 2,
   "metadata": {},
   "outputs": [],
   "source": [
    "from keras.preprocessing.image import ImageDataGenerator"
   ]
  },
  {
   "cell_type": "code",
   "execution_count": 4,
   "metadata": {},
   "outputs": [],
   "source": [
    "train_datagen = ImageDataGenerator (rescale=1./255, shear_range=0.2,zoom_range=0.2, horizontal_flip=True)\n",
    "test_datagen=ImageDataGenerator(rescale=1./255)\n"
   ]
  },
  {
   "cell_type": "code",
   "execution_count": 7,
   "metadata": {},
   "outputs": [
    {
     "name": "stdout",
     "output_type": "stream",
     "text": [
      "Found 742 images belonging to 4 classes.\n",
      "Found 198 images belonging to 4 classes.\n"
     ]
    }
   ],
   "source": [
    "x_train = train_datagen.flow_from_directory('D:/puviayarasu/project/dataset/train_set',target_size=(64, 64), batch_size=5, color_mode='rgb',class_mode='categorical')\n",
    "x_test = test_datagen.flow_from_directory('D:/puviayarasu/project/dataset/test_set',target_size=(64, 64), batch_size=5, color_mode='rgb',class_mode='categorical')"
   ]
  },
  {
   "cell_type": "code",
   "execution_count": 10,
   "metadata": {},
   "outputs": [],
   "source": [
    "import numpy as np\n",
    "import tensorflow \n",
    "from tensorflow.keras.models import Sequential\n",
    "from tensorflow.keras import layers \n",
    "from tensorflow.keras.layers import Dense, Flatten\n",
    "from tensorflow.keras.layers import Conv2D, MaxPooling2D\n",
    "from keras.preprocessing.image import ImageDataGenerator"
   ]
  },
  {
   "cell_type": "code",
   "execution_count": 12,
   "metadata": {},
   "outputs": [
    {
     "name": "stdout",
     "output_type": "stream",
     "text": [
      "Model: \"sequential_1\"\n",
      "_________________________________________________________________\n",
      " Layer (type)                Output Shape              Param #   \n",
      "=================================================================\n",
      " conv2d_2 (Conv2D)           (None, 62, 62, 32)        896       \n",
      "                                                                 \n",
      " max_pooling2d_2 (MaxPooling  (None, 31, 31, 32)       0         \n",
      " 2D)                                                             \n",
      "                                                                 \n",
      " conv2d_3 (Conv2D)           (None, 29, 29, 32)        9248      \n",
      "                                                                 \n",
      " max_pooling2d_3 (MaxPooling  (None, 14, 14, 32)       0         \n",
      " 2D)                                                             \n",
      "                                                                 \n",
      " flatten_1 (Flatten)         (None, 6272)              0         \n",
      "                                                                 \n",
      " dense_2 (Dense)             (None, 128)               802944    \n",
      "                                                                 \n",
      " dense_3 (Dense)             (None, 4)                 516       \n",
      "                                                                 \n",
      "=================================================================\n",
      "Total params: 813,604\n",
      "Trainable params: 813,604\n",
      "Non-trainable params: 0\n",
      "_________________________________________________________________\n"
     ]
    }
   ],
   "source": [
    "classifier=Sequential()\n",
    "classifier.add(Conv2D(32, (3, 3), input_shape=(64, 64, 3), activation='relu')) \n",
    "classifier.add(MaxPooling2D(pool_size=(2, 2)))\n",
    "classifier.add(Conv2D(32, (3, 3), activation='relu'))\n",
    "classifier.add(MaxPooling2D(pool_size=(2, 2)))\n",
    "classifier.add(Flatten())\n",
    "classifier.add(Dense (units=128, activation='relu'))\n",
    "classifier.add(Dense (units=4, activation='softmax'))\n",
    "classifier.summary()"
   ]
  },
  {
   "cell_type": "code",
   "execution_count": 15,
   "metadata": {},
   "outputs": [
    {
     "name": "stderr",
     "output_type": "stream",
     "text": [
      "C:\\Users\\anusu\\AppData\\Local\\Temp\\ipykernel_11512\\2890551124.py:2: UserWarning: `Model.fit_generator` is deprecated and will be removed in a future version. Please use `Model.fit`, which supports generators.\n",
      "  classifier.fit_generator( generator=x_train, steps_per_epoch = len(x_train), epochs=20, validation_data=x_test, validation_steps = len(x_test))\n"
     ]
    },
    {
     "name": "stdout",
     "output_type": "stream",
     "text": [
      "Epoch 1/20\n",
      "149/149 [==============================] - 58s 366ms/step - loss: 0.2157 - accuracy: 0.9218 - val_loss: 1.1230 - val_accuracy: 0.7677\n",
      "Epoch 2/20\n",
      "149/149 [==============================] - 61s 402ms/step - loss: 0.1732 - accuracy: 0.9380 - val_loss: 1.1453 - val_accuracy: 0.7778\n",
      "Epoch 3/20\n",
      "149/149 [==============================] - 60s 396ms/step - loss: 0.1986 - accuracy: 0.9353 - val_loss: 1.0793 - val_accuracy: 0.7778\n",
      "Epoch 4/20\n",
      "149/149 [==============================] - 54s 353ms/step - loss: 0.1412 - accuracy: 0.9447 - val_loss: 0.9429 - val_accuracy: 0.8283\n",
      "Epoch 5/20\n",
      "149/149 [==============================] - 47s 306ms/step - loss: 0.1568 - accuracy: 0.9434 - val_loss: 1.3039 - val_accuracy: 0.7626\n",
      "Epoch 6/20\n",
      "149/149 [==============================] - 47s 307ms/step - loss: 0.1105 - accuracy: 0.9623 - val_loss: 1.4647 - val_accuracy: 0.7475\n",
      "Epoch 7/20\n",
      "149/149 [==============================] - 50s 329ms/step - loss: 0.1150 - accuracy: 0.9515 - val_loss: 1.2304 - val_accuracy: 0.7828\n",
      "Epoch 8/20\n",
      "149/149 [==============================] - 53s 344ms/step - loss: 0.0609 - accuracy: 0.9811 - val_loss: 1.1540 - val_accuracy: 0.8283\n",
      "Epoch 9/20\n",
      "149/149 [==============================] - 52s 340ms/step - loss: 0.1465 - accuracy: 0.9420 - val_loss: 1.5308 - val_accuracy: 0.7071\n",
      "Epoch 10/20\n",
      "149/149 [==============================] - 51s 332ms/step - loss: 0.1000 - accuracy: 0.9744 - val_loss: 1.2540 - val_accuracy: 0.8131\n",
      "Epoch 11/20\n",
      "149/149 [==============================] - 52s 338ms/step - loss: 0.0716 - accuracy: 0.9744 - val_loss: 1.7179 - val_accuracy: 0.7727\n",
      "Epoch 12/20\n",
      "149/149 [==============================] - 52s 337ms/step - loss: 0.1030 - accuracy: 0.9636 - val_loss: 1.5716 - val_accuracy: 0.7525\n",
      "Epoch 13/20\n",
      "149/149 [==============================] - 53s 346ms/step - loss: 0.1267 - accuracy: 0.9501 - val_loss: 1.2088 - val_accuracy: 0.7828\n",
      "Epoch 14/20\n",
      "149/149 [==============================] - 54s 351ms/step - loss: 0.0509 - accuracy: 0.9852 - val_loss: 1.5595 - val_accuracy: 0.7677\n",
      "Epoch 15/20\n",
      "149/149 [==============================] - 51s 332ms/step - loss: 0.1009 - accuracy: 0.9650 - val_loss: 1.3345 - val_accuracy: 0.7828\n",
      "Epoch 16/20\n",
      "149/149 [==============================] - 51s 332ms/step - loss: 0.1098 - accuracy: 0.9596 - val_loss: 1.1722 - val_accuracy: 0.8131\n",
      "Epoch 17/20\n",
      "149/149 [==============================] - 49s 320ms/step - loss: 0.0668 - accuracy: 0.9798 - val_loss: 1.4388 - val_accuracy: 0.7879\n",
      "Epoch 18/20\n",
      "149/149 [==============================] - 46s 301ms/step - loss: 0.0317 - accuracy: 0.9906 - val_loss: 1.6360 - val_accuracy: 0.7980\n",
      "Epoch 19/20\n",
      "149/149 [==============================] - 43s 283ms/step - loss: 0.2238 - accuracy: 0.9501 - val_loss: 1.3316 - val_accuracy: 0.7727\n",
      "Epoch 20/20\n",
      "149/149 [==============================] - 53s 345ms/step - loss: 0.1353 - accuracy: 0.9569 - val_loss: 1.3479 - val_accuracy: 0.7879\n"
     ]
    },
    {
     "data": {
      "text/plain": [
       "<keras.callbacks.History at 0x205685bd280>"
      ]
     },
     "execution_count": 15,
     "metadata": {},
     "output_type": "execute_result"
    }
   ],
   "source": [
    "classifier.compile(optimizer='adam', loss='categorical_crossentropy', metrics=['accuracy'])\n",
    "classifier.fit_generator( generator=x_train, steps_per_epoch = len(x_train), epochs=20, validation_data=x_test, validation_steps = len(x_test))"
   ]
  },
  {
   "cell_type": "code",
   "execution_count": null,
   "metadata": {},
   "outputs": [],
   "source": [
    "classifier.save('disaster.h5')\n",
    "model_json = classifier.to_json()\n",
    "with open(\"model-bw.json\", \"w\") as json_file:\n",
    "    json_file.write(model_json)"
   ]
  }
 ],
 "metadata": {
  "kernelspec": {
   "display_name": "Python 3.9.12 ('base')",
   "language": "python",
   "name": "python3"
  },
  "language_info": {
   "codemirror_mode": {
    "name": "ipython",
    "version": 3
   },
   "file_extension": ".py",
   "mimetype": "text/x-python",
   "name": "python",
   "nbconvert_exporter": "python",
   "pygments_lexer": "ipython3",
   "version": "3.9.12"
  },
  "orig_nbformat": 4,
  "vscode": {
   "interpreter": {
    "hash": "de8f7d15cbd4e1da374e12fadcec5eff3ace79f8eabcbec9722b18744f24a8f0"
   }
  }
 },
 "nbformat": 4,
 "nbformat_minor": 2
}
